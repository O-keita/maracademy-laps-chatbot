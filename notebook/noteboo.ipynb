{
 "cells": [
  {
   "cell_type": "code",
   "execution_count": 1,
   "id": "20d3e23e",
   "metadata": {},
   "outputs": [],
   "source": [
    "import pandas as pd\n",
    "\n",
    "import numpy as np"
   ]
  },
  {
   "cell_type": "code",
   "execution_count": 2,
   "id": "102cd874",
   "metadata": {},
   "outputs": [
    {
     "name": "stdout",
     "output_type": "stream",
     "text": [
      "Loading /home/omar-keita/ai+ml/alu/maracademy-laps-chatbot/notebook/../scripts/../data/computer_science.json...\n",
      "Loaded 172 intents from /home/omar-keita/ai+ml/alu/maracademy-laps-chatbot/notebook/../scripts/../data/computer_science.json\n",
      "Loading /home/omar-keita/ai+ml/alu/maracademy-laps-chatbot/notebook/../scripts/../data/maracademy.json...\n",
      "Loaded 12 intents from /home/omar-keita/ai+ml/alu/maracademy-laps-chatbot/notebook/../scripts/../data/maracademy.json\n",
      "Loading /home/omar-keita/ai+ml/alu/maracademy-laps-chatbot/notebook/../scripts/../data/data_science.json...\n",
      "Loaded 31 intents from /home/omar-keita/ai+ml/alu/maracademy-laps-chatbot/notebook/../scripts/../data/data_science.json\n",
      "Total combined pairs: 519\n",
      "Sample pairs: [{'user': 'Explain data abstraction.', 'bot': 'Data abstraction is a technique used in computer programming to separate the implementation details of a data type from its interface, allowing the implementation to be changed without affecting the code that uses it. This is often achieved through the use of abstract data types (ADTs), which are defined by the operations they support rather than their specific implementation, or through the use of interfaces and classes in object-oriented programming languages. Data abstraction helps to reduce the complexity of software systems by allowing code to be written in a modular and flexible way and by hiding the underlying details of data types from the user.'}, {'user': 'What is data abstraction?', 'bot': 'Data abstraction is a technique used in computer programming to separate the implementation details of a data type from its interface, allowing the implementation to be changed without affecting the code that uses it. This is often achieved through the use of abstract data types (ADTs), which are defined by the operations they support rather than their specific implementation, or through the use of interfaces and classes in object-oriented programming languages. Data abstraction helps to reduce the complexity of software systems by allowing code to be written in a modular and flexible way and by hiding the underlying details of data types from the user.'}, {'user': 'Define data abstraction.', 'bot': 'Data abstraction is a technique used in computer programming to separate the implementation details of a data type from its interface, allowing the implementation to be changed without affecting the code that uses it. This is often achieved through the use of abstract data types (ADTs), which are defined by the operations they support rather than their specific implementation, or through the use of interfaces and classes in object-oriented programming languages. Data abstraction helps to reduce the complexity of software systems by allowing code to be written in a modular and flexible way and by hiding the underlying details of data types from the user.'}, {'user': 'What is a syntax error', 'bot': \"A syntax error is an error in the structure of a programming language's code. It occurs when the code does not conform to the rules of the programming language's syntax. Syntax errors can occur for a variety of reasons, such as using the wrong punctuation, omitting required elements, or using an incorrect keyword. Syntax errors are usually detected by a compiler or interpreter when the code is being compiled or executed, and they can prevent the code from running correctly. To fix a syntax error, the code must be revised to conform to the correct syntax of the programming language.\"}, {'user': 'Explain syntax error', 'bot': \"A syntax error is an error in the structure of a programming language's code. It occurs when the code does not conform to the rules of the programming language's syntax. Syntax errors can occur for a variety of reasons, such as using the wrong punctuation, omitting required elements, or using an incorrect keyword. Syntax errors are usually detected by a compiler or interpreter when the code is being compiled or executed, and they can prevent the code from running correctly. To fix a syntax error, the code must be revised to conform to the correct syntax of the programming language.\"}]\n",
      "Combined Q&A pairs saved to /home/omar-keita/ai+ml/alu/maracademy-laps-chatbot/notebook/../scripts/../data/conversations_combined.csv\n"
     ]
    }
   ],
   "source": [
    "#=================================================\n",
    "\"\"\"\n",
    "    lets convert our json to csv\n",
    "    convert json into csv of in the format of User, Bot\n",
    "    for all the json documents we have and combine themm\n",
    "\"\"\"\n",
    "#=================================================\n",
    "\n",
    "!python ../scripts/json_to_csv.py"
   ]
  },
  {
   "cell_type": "code",
   "execution_count": 3,
   "id": "ab65ab12",
   "metadata": {},
   "outputs": [
    {
     "name": "stdout",
     "output_type": "stream",
     "text": [
      "/home/omar-keita/ai+ml/alu/maracademy-laps-chatbot/notebook/../scripts/preprocess.py:40: SyntaxWarning: invalid escape sequence '\\s'\n",
      "  df['user'] = df['user'].str.replace('\\s+', ' ', regex=True)\n",
      "/home/omar-keita/ai+ml/alu/maracademy-laps-chatbot/notebook/../scripts/preprocess.py:41: SyntaxWarning: invalid escape sequence '\\s'\n",
      "  df['bot'] = df['bot'].str.replace('\\s+', ' ', regex=True)\n",
      "Preprocessed data saved to /home/omar-keita/ai+ml/alu/maracademy-laps-chatbot/notebook/../scripts/../data/conversations_clean.csv\n"
     ]
    }
   ],
   "source": [
    "#==========================================\n",
    "#preprocess our data\n",
    "#we import our preprocess model from preprcess\n",
    "#==========================================\n",
    "\n",
    "\n",
    "!python ../scripts/preprocess.py\n"
   ]
  },
  {
   "cell_type": "code",
   "execution_count": 4,
   "id": "c6b07075",
   "metadata": {},
   "outputs": [
    {
     "name": "stdout",
     "output_type": "stream",
     "text": [
      "2025-10-14 10:33:06.634557: I tensorflow/core/util/port.cc:153] oneDNN custom operations are on. You may see slightly different numerical results due to floating-point round-off errors from different computation orders. To turn them off, set the environment variable `TF_ENABLE_ONEDNN_OPTS=0`.\n",
      "2025-10-14 10:33:07.149586: I tensorflow/core/platform/cpu_feature_guard.cc:210] This TensorFlow binary is optimized to use available CPU instructions in performance-critical operations.\n",
      "To enable the following instructions: AVX2 AVX_VNNI FMA, in other operations, rebuild TensorFlow with the appropriate compiler flags.\n",
      "2025-10-14 10:33:09.215349: I tensorflow/core/util/port.cc:153] oneDNN custom operations are on. You may see slightly different numerical results due to floating-point round-off errors from different computation orders. To turn them off, set the environment variable `TF_ENABLE_ONEDNN_OPTS=0`.\n",
      "/home/omar-keita/ai+ml/alu/maracademy-laps-chatbot/venv/lib/python3.12/site-packages/transformers/data/datasets/language_modeling.py:53: FutureWarning: This dataset will be removed from the library soon, preprocessing should be handled with the 🤗 Datasets library. You can have a look at this example script for pointers: https://github.com/huggingface/transformers/blob/main/examples/pytorch/language-modeling/run_mlm.py\n",
      "  warnings.warn(\n",
      "  0%|                                                  | 0/2920 [00:00<?, ?it/s]/home/omar-keita/ai+ml/alu/maracademy-laps-chatbot/venv/lib/python3.12/site-packages/torch/utils/data/dataloader.py:666: UserWarning: 'pin_memory' argument is set as true but no accelerator is found, then device pinned memory won't be used.\n",
      "  warnings.warn(warn_msg)\n",
      "`loss_type=None` was set in the config but it is unrecognized. Using the default loss: `ForCausalLMLoss`.\n",
      "{'loss': 2.2238, 'grad_norm': 16.058212280273438, 'learning_rate': 4.830479452054795e-05, 'epoch': 0.68}\n",
      "{'loss': 1.7332, 'grad_norm': 10.876388549804688, 'learning_rate': 4.6592465753424655e-05, 'epoch': 1.37}\n",
      "{'loss': 1.4728, 'grad_norm': 8.341639518737793, 'learning_rate': 4.4880136986301375e-05, 'epoch': 2.05}\n",
      "{'loss': 1.1939, 'grad_norm': 8.958134651184082, 'learning_rate': 4.316780821917809e-05, 'epoch': 2.74}\n",
      "{'loss': 1.0029, 'grad_norm': 10.823430061340332, 'learning_rate': 4.1455479452054795e-05, 'epoch': 3.42}\n",
      " 20%|███████▌                              | 584/2920 [18:24<1:11:52,  1.85s/it]/home/omar-keita/ai+ml/alu/maracademy-laps-chatbot/venv/lib/python3.12/site-packages/torch/utils/data/dataloader.py:666: UserWarning: 'pin_memory' argument is set as true but no accelerator is found, then device pinned memory won't be used.\n",
      "  warnings.warn(warn_msg)\n",
      "{'loss': 0.8437, 'grad_norm': 8.206233978271484, 'learning_rate': 3.974315068493151e-05, 'epoch': 4.11}\n",
      "{'loss': 0.6878, 'grad_norm': 8.933398246765137, 'learning_rate': 3.803082191780822e-05, 'epoch': 4.79}\n",
      "{'loss': 0.5655, 'grad_norm': 6.911395072937012, 'learning_rate': 3.6318493150684934e-05, 'epoch': 5.48}\n",
      "{'loss': 0.4984, 'grad_norm': 6.546276569366455, 'learning_rate': 3.460616438356165e-05, 'epoch': 6.16}\n",
      "{'loss': 0.418, 'grad_norm': 4.576390743255615, 'learning_rate': 3.2893835616438354e-05, 'epoch': 6.85}\n",
      " 35%|█████████████▋                         | 1022/2920 [31:07<54:16,  1.72s/it]/home/omar-keita/ai+ml/alu/maracademy-laps-chatbot/venv/lib/python3.12/site-packages/torch/utils/data/dataloader.py:666: UserWarning: 'pin_memory' argument is set as true but no accelerator is found, then device pinned memory won't be used.\n",
      "  warnings.warn(warn_msg)\n",
      "{'loss': 0.3452, 'grad_norm': 3.919118881225586, 'learning_rate': 3.118150684931507e-05, 'epoch': 7.53}\n",
      "{'loss': 0.3172, 'grad_norm': 4.759200096130371, 'learning_rate': 2.9469178082191783e-05, 'epoch': 8.22}\n",
      "{'loss': 0.2731, 'grad_norm': 5.258312702178955, 'learning_rate': 2.7756849315068496e-05, 'epoch': 8.9}\n",
      "{'loss': 0.2268, 'grad_norm': 4.768576622009277, 'learning_rate': 2.6044520547945206e-05, 'epoch': 9.59}\n",
      "{'loss': 0.21, 'grad_norm': 4.562700271606445, 'learning_rate': 2.433219178082192e-05, 'epoch': 10.27}\n",
      "{'loss': 0.2131, 'grad_norm': 4.7971272468566895, 'learning_rate': 2.261986301369863e-05, 'epoch': 10.96}\n",
      " 55%|█████████████████████▍                 | 1606/2920 [48:04<39:16,  1.79s/it]/home/omar-keita/ai+ml/alu/maracademy-laps-chatbot/venv/lib/python3.12/site-packages/torch/utils/data/dataloader.py:666: UserWarning: 'pin_memory' argument is set as true but no accelerator is found, then device pinned memory won't be used.\n",
      "  warnings.warn(warn_msg)\n",
      "{'loss': 0.1705, 'grad_norm': 3.8998000621795654, 'learning_rate': 2.0907534246575346e-05, 'epoch': 11.64}\n",
      "{'loss': 0.1616, 'grad_norm': 3.522139072418213, 'learning_rate': 1.9195205479452055e-05, 'epoch': 12.33}\n",
      "{'loss': 0.1594, 'grad_norm': 3.610503673553467, 'learning_rate': 1.748287671232877e-05, 'epoch': 13.01}\n",
      "{'loss': 0.1331, 'grad_norm': 3.1427299976348877, 'learning_rate': 1.577054794520548e-05, 'epoch': 13.7}\n",
      " 70%|█████████████████████████▉           | 2044/2920 [1:01:05<25:41,  1.76s/it]/home/omar-keita/ai+ml/alu/maracademy-laps-chatbot/venv/lib/python3.12/site-packages/torch/utils/data/dataloader.py:666: UserWarning: 'pin_memory' argument is set as true but no accelerator is found, then device pinned memory won't be used.\n",
      "  warnings.warn(warn_msg)\n",
      "{'loss': 0.1282, 'grad_norm': 2.805028200149536, 'learning_rate': 1.4058219178082193e-05, 'epoch': 14.38}\n",
      "{'loss': 0.1189, 'grad_norm': 3.1646728515625, 'learning_rate': 1.2345890410958904e-05, 'epoch': 15.07}\n",
      "{'loss': 0.1164, 'grad_norm': 3.2955336570739746, 'learning_rate': 1.0633561643835618e-05, 'epoch': 15.75}\n",
      "{'loss': 0.1103, 'grad_norm': 2.5007708072662354, 'learning_rate': 8.921232876712329e-06, 'epoch': 16.44}\n",
      "{'loss': 0.1069, 'grad_norm': 1.875935673713684, 'learning_rate': 7.208904109589042e-06, 'epoch': 17.12}\n",
      "{'loss': 0.0999, 'grad_norm': 3.975844621658325, 'learning_rate': 5.496575342465754e-06, 'epoch': 17.81}\n",
      " 90%|█████████████████████████████████▎   | 2628/2920 [1:18:19<08:21,  1.72s/it]/home/omar-keita/ai+ml/alu/maracademy-laps-chatbot/venv/lib/python3.12/site-packages/torch/utils/data/dataloader.py:666: UserWarning: 'pin_memory' argument is set as true but no accelerator is found, then device pinned memory won't be used.\n",
      "  warnings.warn(warn_msg)\n",
      "{'loss': 0.097, 'grad_norm': 3.1110785007476807, 'learning_rate': 3.7842465753424658e-06, 'epoch': 18.49}\n",
      "{'loss': 0.099, 'grad_norm': 6.322401523590088, 'learning_rate': 2.0719178082191785e-06, 'epoch': 19.18}\n",
      "{'loss': 0.0877, 'grad_norm': 3.0115180015563965, 'learning_rate': 3.5958904109589045e-07, 'epoch': 19.86}\n",
      "{'train_runtime': 5232.4581, 'train_samples_per_second': 1.116, 'train_steps_per_second': 0.558, 'train_loss': 0.473698986556432, 'epoch': 20.0}\n",
      "100%|█████████████████████████████████████| 2920/2920 [1:27:12<00:00,  1.79s/it]\n",
      "GPT-2 fine-tuned and saved.\n"
     ]
    }
   ],
   "source": [
    "#===========================================\n",
    "#train model\n",
    "#============================================\n",
    "\n",
    "!python ../scripts/train_gpt2.py"
   ]
  },
  {
   "cell_type": "code",
   "execution_count": 5,
   "id": "27124c94",
   "metadata": {},
   "outputs": [
    {
     "name": "stdout",
     "output_type": "stream",
     "text": [
      "CSV successfully converted to txt corpus\n"
     ]
    }
   ],
   "source": [
    "#==============================================\n",
    "\"\"\"\n",
    "    now we convert the csv to a txt containing corpus\n",
    "    Bot:...............\n",
    "    User:..............\n",
    "\"\"\"\n",
    "#===============================================\n",
    "!python ../scripts/csv_pretrained.py"
   ]
  },
  {
   "cell_type": "code",
   "execution_count": 6,
   "id": "711fb73f",
   "metadata": {},
   "outputs": [
    {
     "name": "stderr",
     "output_type": "stream",
     "text": [
      "/home/omar-keita/ai+ml/alu/maracademy-laps-chatbot/venv/lib/python3.12/site-packages/tqdm/auto.py:21: TqdmWarning: IProgress not found. Please update jupyter and ipywidgets. See https://ipywidgets.readthedocs.io/en/stable/user_install.html\n",
      "  from .autonotebook import tqdm as notebook_tqdm\n",
      "2025-10-14 12:00:31.990058: I tensorflow/core/util/port.cc:153] oneDNN custom operations are on. You may see slightly different numerical results due to floating-point round-off errors from different computation orders. To turn them off, set the environment variable `TF_ENABLE_ONEDNN_OPTS=0`.\n",
      "2025-10-14 12:00:32.037206: I tensorflow/core/platform/cpu_feature_guard.cc:210] This TensorFlow binary is optimized to use available CPU instructions in performance-critical operations.\n",
      "To enable the following instructions: AVX2 AVX_VNNI FMA, in other operations, rebuild TensorFlow with the appropriate compiler flags.\n",
      "2025-10-14 12:00:33.222989: I tensorflow/core/util/port.cc:153] oneDNN custom operations are on. You may see slightly different numerical results due to floating-point round-off errors from different computation orders. To turn them off, set the environment variable `TF_ENABLE_ONEDNN_OPTS=0`.\n"
     ]
    }
   ],
   "source": [
    "from transformers import GPT2Tokenizer, GPT2LMHeadModel\n",
    "\n",
    "# Update the path below to wherever your fine-tuned model is saved\n",
    "model_dir = \"../models/gpt2-finetuned-maracademy\"\n",
    "\n",
    "tokenizer = GPT2Tokenizer.from_pretrained(model_dir)\n",
    "model = GPT2LMHeadModel.from_pretrained(model_dir)"
   ]
  },
  {
   "cell_type": "code",
   "execution_count": 7,
   "id": "072c1864",
   "metadata": {},
   "outputs": [
    {
     "name": "stderr",
     "output_type": "stream",
     "text": [
      "The attention mask is not set and cannot be inferred from input because pad token is same as eos token. As a consequence, you may observe unexpected behavior. Please pass your input's `attention_mask` to obtain reliable results.\n"
     ]
    },
    {
     "name": "stdout",
     "output_type": "stream",
     "text": [
      "User: what is data science\n",
      "Bot: Data science is a multidisciplinary field that involves extracting insights and knowledge from data using various techniques and tools. The data science process typically includes steps such as data collection, data cleaning, data exploration, data analysis, and data visualization. Tools used in data science include programming languages like Python or R, data visualization libraries, statistical software, and machine learning frameworks.\n",
      "User: explain data science.\n",
      "Bot: Data science is a multidisciplinary field that\n"
     ]
    }
   ],
   "source": [
    "import torch\n",
    "prompt = \"User: what is data science\\nBot:\"\n",
    "inputs = tokenizer.encode(prompt, return_tensors=\"pt\")\n",
    "\n",
    "# Generate a response\n",
    "outputs = model.generate(inputs, max_length=100, pad_token_id=tokenizer.eos_token_id)\n",
    "response = tokenizer.decode(outputs[0], skip_special_tokens=True)\n",
    "\n",
    "print(response)"
   ]
  },
  {
   "cell_type": "code",
   "execution_count": null,
   "id": "774536b7",
   "metadata": {},
   "outputs": [],
   "source": []
  }
 ],
 "metadata": {
  "kernelspec": {
   "display_name": "venv (3.12.3)",
   "language": "python",
   "name": "python3"
  },
  "language_info": {
   "codemirror_mode": {
    "name": "ipython",
    "version": 3
   },
   "file_extension": ".py",
   "mimetype": "text/x-python",
   "name": "python",
   "nbconvert_exporter": "python",
   "pygments_lexer": "ipython3",
   "version": "3.12.3"
  }
 },
 "nbformat": 4,
 "nbformat_minor": 5
}
