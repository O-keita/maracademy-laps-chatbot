{
 "cells": [
  {
   "cell_type": "code",
   "execution_count": 2,
   "id": "20d3e23e",
   "metadata": {},
   "outputs": [],
   "source": [
    "import pandas as pd\n",
    "\n",
    "import numpy as np"
   ]
  },
  {
   "cell_type": "code",
   "execution_count": 4,
   "id": "102cd874",
   "metadata": {},
   "outputs": [
    {
     "name": "stdout",
     "output_type": "stream",
     "text": [
      "Loading /home/omar-keita/ai+ml/alu/maracademy-laps-chatbot/notebook/../scripts/../data/computer_science.json...\n",
      "Loaded 172 intents from /home/omar-keita/ai+ml/alu/maracademy-laps-chatbot/notebook/../scripts/../data/computer_science.json\n",
      "Loading /home/omar-keita/ai+ml/alu/maracademy-laps-chatbot/notebook/../scripts/../data/maracademy.json...\n",
      "Loaded 12 intents from /home/omar-keita/ai+ml/alu/maracademy-laps-chatbot/notebook/../scripts/../data/maracademy.json\n",
      "Loading /home/omar-keita/ai+ml/alu/maracademy-laps-chatbot/notebook/../scripts/../data/data_science.json...\n",
      "Loaded 31 intents from /home/omar-keita/ai+ml/alu/maracademy-laps-chatbot/notebook/../scripts/../data/data_science.json\n",
      "Total combined pairs: 519\n",
      "Sample pairs: [{'user': 'Explain data abstraction.', 'bot': 'Data abstraction is a technique used in computer programming to separate the implementation details of a data type from its interface, allowing the implementation to be changed without affecting the code that uses it. This is often achieved through the use of abstract data types (ADTs), which are defined by the operations they support rather than their specific implementation, or through the use of interfaces and classes in object-oriented programming languages. Data abstraction helps to reduce the complexity of software systems by allowing code to be written in a modular and flexible way and by hiding the underlying details of data types from the user.'}, {'user': 'What is data abstraction?', 'bot': 'Data abstraction is a technique used in computer programming to separate the implementation details of a data type from its interface, allowing the implementation to be changed without affecting the code that uses it. This is often achieved through the use of abstract data types (ADTs), which are defined by the operations they support rather than their specific implementation, or through the use of interfaces and classes in object-oriented programming languages. Data abstraction helps to reduce the complexity of software systems by allowing code to be written in a modular and flexible way and by hiding the underlying details of data types from the user.'}, {'user': 'Define data abstraction.', 'bot': 'Data abstraction is a technique used in computer programming to separate the implementation details of a data type from its interface, allowing the implementation to be changed without affecting the code that uses it. This is often achieved through the use of abstract data types (ADTs), which are defined by the operations they support rather than their specific implementation, or through the use of interfaces and classes in object-oriented programming languages. Data abstraction helps to reduce the complexity of software systems by allowing code to be written in a modular and flexible way and by hiding the underlying details of data types from the user.'}, {'user': 'What is a syntax error', 'bot': \"A syntax error is an error in the structure of a programming language's code. It occurs when the code does not conform to the rules of the programming language's syntax. Syntax errors can occur for a variety of reasons, such as using the wrong punctuation, omitting required elements, or using an incorrect keyword. Syntax errors are usually detected by a compiler or interpreter when the code is being compiled or executed, and they can prevent the code from running correctly. To fix a syntax error, the code must be revised to conform to the correct syntax of the programming language.\"}, {'user': 'Explain syntax error', 'bot': \"A syntax error is an error in the structure of a programming language's code. It occurs when the code does not conform to the rules of the programming language's syntax. Syntax errors can occur for a variety of reasons, such as using the wrong punctuation, omitting required elements, or using an incorrect keyword. Syntax errors are usually detected by a compiler or interpreter when the code is being compiled or executed, and they can prevent the code from running correctly. To fix a syntax error, the code must be revised to conform to the correct syntax of the programming language.\"}]\n",
      "Combined Q&A pairs saved to /home/omar-keita/ai+ml/alu/maracademy-laps-chatbot/notebook/../scripts/../data/conversations_combined.csv\n"
     ]
    }
   ],
   "source": [
    "#=================================================\n",
    "\"\"\"\"\n",
    "    lets convert our json to csv\n",
    "    convert json into csv of in the format of User, Bot\n",
    "    for all the json documents we have and combine themm\n",
    "\"\"\"\n",
    "#=================================================\n",
    "\n",
    "!python ../scripts/json_to_csv.py"
   ]
  },
  {
   "cell_type": "code",
   "execution_count": 5,
   "id": "ab65ab12",
   "metadata": {},
   "outputs": [
    {
     "name": "stdout",
     "output_type": "stream",
     "text": [
      "/home/omar-keita/ai+ml/alu/maracademy-laps-chatbot/notebook/../scripts/preprocess.py:40: SyntaxWarning: invalid escape sequence '\\s'\n",
      "  df['user'] = df['user'].str.replace('\\s+', ' ', regex=True)\n",
      "/home/omar-keita/ai+ml/alu/maracademy-laps-chatbot/notebook/../scripts/preprocess.py:41: SyntaxWarning: invalid escape sequence '\\s'\n",
      "  df['bot'] = df['bot'].str.replace('\\s+', ' ', regex=True)\n",
      "Preprocessed data saved to /home/omar-keita/ai+ml/alu/maracademy-laps-chatbot/notebook/../scripts/../data/conversations_clean.csv\n"
     ]
    }
   ],
   "source": [
    "#==========================================\n",
    "#preprocess our data\n",
    "#we import our preprocess model from preprcess\n",
    "#==========================================\n",
    "\n",
    "\n",
    "!python ../scripts/preprocess.py\n"
   ]
  },
  {
   "cell_type": "code",
   "execution_count": 7,
   "id": "27124c94",
   "metadata": {},
   "outputs": [
    {
     "name": "stdout",
     "output_type": "stream",
     "text": [
      "CSV successfully converted to txt corpus\n"
     ]
    }
   ],
   "source": [
    "#==============================================\n",
    "\"\"\"\"\n",
    "    now we convert the csv to a txt containing corpus\n",
    "    Bot:...............\n",
    "    User:..............\n",
    "\n",
    "\"\"\"\n",
    "#===============================================\n",
    "\n",
    "!python ../scripts/csv_pretrained.py"
   ]
  }
 ],
 "metadata": {
  "kernelspec": {
   "display_name": "venv (3.12.3)",
   "language": "python",
   "name": "python3"
  },
  "language_info": {
   "codemirror_mode": {
    "name": "ipython",
    "version": 3
   },
   "file_extension": ".py",
   "mimetype": "text/x-python",
   "name": "python",
   "nbconvert_exporter": "python",
   "pygments_lexer": "ipython3",
   "version": "3.12.3"
  }
 },
 "nbformat": 4,
 "nbformat_minor": 5
}
